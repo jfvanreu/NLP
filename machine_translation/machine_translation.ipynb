{
 "cells": [
  {
   "cell_type": "markdown",
   "metadata": {
    "collapsed": true
   },
   "source": [
    "# Artificial Intelligence Nanodegree\n",
    "## Machine Translation Project\n",
    "In this notebook, sections that end with **'(IMPLEMENTATION)'** in the header indicate that the following blocks of code will require additional functionality which you must provide. Please be sure to read the instructions carefully!\n",
    "\n",
    "## Introduction\n",
    "In this notebook, you will build a deep neural network that functions as part of an end-to-end machine translation pipeline. Your completed pipeline will accept English text as input and return the French translation.\n",
    "\n",
    "- **Preprocess** - You'll convert text to sequence of integers.\n",
    "- **Models** Create models which accepts a sequence of integers as input and returns a probability distribution over possible translations. After learning about the basic types of neural networks that are often used for machine translation, you will engage in your own investigations, to design your own model!\n",
    "- **Prediction** Run the model on English text."
   ]
  },
  {
   "cell_type": "code",
   "execution_count": 1,
   "metadata": {
    "collapsed": true
   },
   "outputs": [],
   "source": [
    "%load_ext autoreload\n",
    "%aimport helper, tests\n",
    "%autoreload 1"
   ]
  },
  {
   "cell_type": "code",
   "execution_count": 2,
   "metadata": {},
   "outputs": [],
   "source": [
    "import collections\n",
    "\n",
    "import helper\n",
    "import numpy as np\n",
    "import project_tests as tests\n",
    "\n",
    "from keras.preprocessing.text import Tokenizer\n",
    "from keras.preprocessing.sequence import pad_sequences\n",
    "from keras.models import Model\n",
    "from keras.layers import GRU, Input, Dense, TimeDistributed, Activation, RepeatVector, Bidirectional\n",
    "from keras.layers.embeddings import Embedding\n",
    "from keras.optimizers import Adam\n",
    "from keras.losses import sparse_categorical_crossentropy"
   ]
  },
  {
   "cell_type": "markdown",
   "metadata": {},
   "source": [
    "### Verify access to the GPU\n",
    "The following test applies only if you expect to be using a GPU, e.g., while running in a Udacity Workspace or using an AWS instance with GPU support. Run the next cell, and verify that the device_type is \"GPU\".\n",
    "- If the device is not GPU & you are running from a Udacity Workspace, then save your workspace with the icon at the top, then click \"enable\" at the bottom of the workspace.\n",
    "- If the device is not GPU & you are running from an AWS instance, then refer to the cloud computing instructions in the classroom to verify your setup steps."
   ]
  },
  {
   "cell_type": "code",
   "execution_count": 3,
   "metadata": {},
   "outputs": [
    {
     "name": "stdout",
     "output_type": "stream",
     "text": [
      "[name: \"/device:CPU:0\"\n",
      "device_type: \"CPU\"\n",
      "memory_limit: 268435456\n",
      "locality {\n",
      "}\n",
      "incarnation: 17215912014630253236\n",
      ", name: \"/device:XLA_CPU:0\"\n",
      "device_type: \"XLA_CPU\"\n",
      "memory_limit: 17179869184\n",
      "locality {\n",
      "}\n",
      "incarnation: 16357640452398209627\n",
      "physical_device_desc: \"device: XLA_CPU device\"\n",
      "]\n"
     ]
    }
   ],
   "source": [
    "from tensorflow.python.client import device_lib\n",
    "print(device_lib.list_local_devices())"
   ]
  },
  {
   "cell_type": "markdown",
   "metadata": {},
   "source": [
    "## Dataset\n",
    "We begin by investigating the dataset that will be used to train and evaluate your pipeline.  The most common datasets used for machine translation are from [WMT](http://www.statmt.org/).  However, that will take a long time to train a neural network on.  We'll be using a dataset we created for this project that contains a small vocabulary.  You'll be able to train your model in a reasonable time with this dataset.\n",
    "### Load Data\n",
    "The data is located in `data/small_vocab_en` and `data/small_vocab_fr`. The `small_vocab_en` file contains English sentences with their French translations in the `small_vocab_fr` file. Load the English and French data from these files from running the cell below."
   ]
  },
  {
   "cell_type": "code",
   "execution_count": 4,
   "metadata": {},
   "outputs": [
    {
     "name": "stdout",
     "output_type": "stream",
     "text": [
      "Dataset Loaded\n"
     ]
    }
   ],
   "source": [
    "# Load English data\n",
    "english_sentences = helper.load_data('data/small_vocab_en')\n",
    "# Load French data\n",
    "french_sentences = helper.load_data('data/small_vocab_fr')\n",
    "\n",
    "print('Dataset Loaded')"
   ]
  },
  {
   "cell_type": "markdown",
   "metadata": {},
   "source": [
    "### Files\n",
    "Each line in `small_vocab_en` contains an English sentence with the respective translation in each line of `small_vocab_fr`.  View the first two lines from each file."
   ]
  },
  {
   "cell_type": "code",
   "execution_count": 5,
   "metadata": {},
   "outputs": [
    {
     "name": "stdout",
     "output_type": "stream",
     "text": [
      "small_vocab_en Line 1:  new jersey is sometimes quiet during autumn , and it is snowy in april .\n",
      "small_vocab_fr Line 1:  new jersey est parfois calme pendant l' automne , et il est neigeux en avril .\n",
      "small_vocab_en Line 2:  the united states is usually chilly during july , and it is usually freezing in november .\n",
      "small_vocab_fr Line 2:  les états-unis est généralement froid en juillet , et il gèle habituellement en novembre .\n"
     ]
    }
   ],
   "source": [
    "for sample_i in range(2):\n",
    "    print('small_vocab_en Line {}:  {}'.format(sample_i + 1, english_sentences[sample_i]))\n",
    "    print('small_vocab_fr Line {}:  {}'.format(sample_i + 1, french_sentences[sample_i]))"
   ]
  },
  {
   "cell_type": "markdown",
   "metadata": {},
   "source": [
    "From looking at the sentences, you can see they have been preprocessed already.  The puncuations have been delimited using spaces. All the text have been converted to lowercase.  This should save you some time, but the text requires more preprocessing.\n",
    "### Vocabulary\n",
    "The complexity of the problem is determined by the complexity of the vocabulary.  A more complex vocabulary is a more complex problem.  Let's look at the complexity of the dataset we'll be working with."
   ]
  },
  {
   "cell_type": "code",
   "execution_count": 6,
   "metadata": {},
   "outputs": [
    {
     "name": "stdout",
     "output_type": "stream",
     "text": [
      "1823250 English words.\n",
      "227 unique English words.\n",
      "10 Most common words in the English dataset:\n",
      "\"is\" \",\" \".\" \"in\" \"it\" \"during\" \"the\" \"but\" \"and\" \"sometimes\"\n",
      "\n",
      "1961295 French words.\n",
      "355 unique French words.\n",
      "10 Most common words in the French dataset:\n",
      "\"est\" \".\" \",\" \"en\" \"il\" \"les\" \"mais\" \"et\" \"la\" \"parfois\"\n"
     ]
    }
   ],
   "source": [
    "english_words_counter = collections.Counter([word for sentence in english_sentences for word in sentence.split()])\n",
    "french_words_counter = collections.Counter([word for sentence in french_sentences for word in sentence.split()])\n",
    "\n",
    "print('{} English words.'.format(len([word for sentence in english_sentences for word in sentence.split()])))\n",
    "print('{} unique English words.'.format(len(english_words_counter)))\n",
    "print('10 Most common words in the English dataset:')\n",
    "print('\"' + '\" \"'.join(list(zip(*english_words_counter.most_common(10)))[0]) + '\"')\n",
    "print()\n",
    "print('{} French words.'.format(len([word for sentence in french_sentences for word in sentence.split()])))\n",
    "print('{} unique French words.'.format(len(french_words_counter)))\n",
    "print('10 Most common words in the French dataset:')\n",
    "print('\"' + '\" \"'.join(list(zip(*french_words_counter.most_common(10)))[0]) + '\"')"
   ]
  },
  {
   "cell_type": "markdown",
   "metadata": {},
   "source": [
    "For comparison, _Alice's Adventures in Wonderland_ contains 2,766 unique words of a total of 15,500 words.\n",
    "## Preprocess\n",
    "For this project, you won't use text data as input to your model. Instead, you'll convert the text into sequences of integers using the following preprocess methods:\n",
    "1. Tokenize the words into ids\n",
    "2. Add padding to make all the sequences the same length.\n",
    "\n",
    "Time to start preprocessing the data...\n",
    "### Tokenize (IMPLEMENTATION)\n",
    "For a neural network to predict on text data, it first has to be turned into data it can understand. Text data like \"dog\" is a sequence of ASCII character encodings.  Since a neural network is a series of multiplication and addition operations, the input data needs to be number(s).\n",
    "\n",
    "We can turn each character into a number or each word into a number.  These are called character and word ids, respectively.  Character ids are used for character level models that generate text predictions for each character.  A word level model uses word ids that generate text predictions for each word.  Word level models tend to learn better, since they are lower in complexity, so we'll use those.\n",
    "\n",
    "Turn each sentence into a sequence of words ids using Keras's [`Tokenizer`](https://keras.io/preprocessing/text/#tokenizer) function. Use this function to tokenize `english_sentences` and `french_sentences` in the cell below.\n",
    "\n",
    "Running the cell will run `tokenize` on sample data and show output for debugging."
   ]
  },
  {
   "cell_type": "code",
   "execution_count": 8,
   "metadata": {},
   "outputs": [
    {
     "ename": "AttributeError",
     "evalue": "module 'helper' has no attribute 'create_lookup_tables'",
     "output_type": "error",
     "traceback": [
      "\u001b[0;31m---------------------------------------------------------------------------\u001b[0m",
      "\u001b[0;31mAttributeError\u001b[0m                            Traceback (most recent call last)",
      "\u001b[0;32m<ipython-input-8-4b0b57fa61ad>\u001b[0m in \u001b[0;36m<module>\u001b[0;34m()\u001b[0m\n\u001b[1;32m     14\u001b[0m     \u001b[0;32mreturn\u001b[0m \u001b[0mx_tk\u001b[0m\u001b[0;34m.\u001b[0m\u001b[0mtexts_to_sequences\u001b[0m\u001b[0;34m(\u001b[0m\u001b[0mx\u001b[0m\u001b[0;34m)\u001b[0m\u001b[0;34m,\u001b[0m \u001b[0mx_tk\u001b[0m\u001b[0;34m\u001b[0m\u001b[0m\n\u001b[1;32m     15\u001b[0m \u001b[0;34m\u001b[0m\u001b[0m\n\u001b[0;32m---> 16\u001b[0;31m \u001b[0mtests\u001b[0m\u001b[0;34m.\u001b[0m\u001b[0mtest_text_to_ids\u001b[0m\u001b[0;34m(\u001b[0m\u001b[0mtokenize\u001b[0m\u001b[0;34m)\u001b[0m\u001b[0;34m\u001b[0m\u001b[0m\n\u001b[0m\u001b[1;32m     17\u001b[0m \u001b[0;34m\u001b[0m\u001b[0m\n\u001b[1;32m     18\u001b[0m \u001b[0;31m# Tokenize Example output\u001b[0m\u001b[0;34m\u001b[0m\u001b[0;34m\u001b[0m\u001b[0m\n",
      "\u001b[0;32m~/git/DL/Machine Translation/machine_translation/project_tests.py\u001b[0m in \u001b[0;36mtest_text_to_ids\u001b[0;34m(text_to_ids)\u001b[0m\n\u001b[1;32m     18\u001b[0m     \u001b[0mtest_target_text\u001b[0m \u001b[0;34m=\u001b[0m \u001b[0mtest_target_text\u001b[0m\u001b[0;34m.\u001b[0m\u001b[0mlower\u001b[0m\u001b[0;34m(\u001b[0m\u001b[0;34m)\u001b[0m\u001b[0;34m\u001b[0m\u001b[0m\n\u001b[1;32m     19\u001b[0m \u001b[0;34m\u001b[0m\u001b[0m\n\u001b[0;32m---> 20\u001b[0;31m     \u001b[0msource_vocab_to_int\u001b[0m\u001b[0;34m,\u001b[0m \u001b[0msource_int_to_vocab\u001b[0m \u001b[0;34m=\u001b[0m \u001b[0mhelper\u001b[0m\u001b[0;34m.\u001b[0m\u001b[0mcreate_lookup_tables\u001b[0m\u001b[0;34m(\u001b[0m\u001b[0mtest_source_text\u001b[0m\u001b[0;34m)\u001b[0m\u001b[0;34m\u001b[0m\u001b[0m\n\u001b[0m\u001b[1;32m     21\u001b[0m     \u001b[0mtarget_vocab_to_int\u001b[0m\u001b[0;34m,\u001b[0m \u001b[0mtarget_int_to_vocab\u001b[0m \u001b[0;34m=\u001b[0m \u001b[0mhelper\u001b[0m\u001b[0;34m.\u001b[0m\u001b[0mcreate_lookup_tables\u001b[0m\u001b[0;34m(\u001b[0m\u001b[0mtest_target_text\u001b[0m\u001b[0;34m)\u001b[0m\u001b[0;34m\u001b[0m\u001b[0m\n\u001b[1;32m     22\u001b[0m \u001b[0;34m\u001b[0m\u001b[0m\n",
      "\u001b[0;31mAttributeError\u001b[0m: module 'helper' has no attribute 'create_lookup_tables'"
     ]
    }
   ],
   "source": [
    "def tokenize(x):\n",
    "    \"\"\"\n",
    "    Tokenize x\n",
    "    :param x: List of sentences/strings to be tokenized\n",
    "    :return: Tuple of (tokenized x data, tokenizer used to tokenize x)\n",
    "    \"\"\"\n",
    "    # TODO: Implement\n",
    "    # we first create the tokenizer; we use a word level model\n",
    "    x_tk = Tokenizer(char_level=False)\n",
    "    \n",
    "    # stores all the words found in x in a dictionary \n",
    "    x_tk.fit_on_texts(x)\n",
    "\n",
    "    return x_tk.texts_to_sequences(x), x_tk    \n",
    "    \n",
    "tests.test_text_to_ids(tokenize)\n",
    "\n",
    "# Tokenize Example output\n",
    "text_sentences = [\n",
    "    'The quick brown fox jumps over the lazy dog .',\n",
    "    'By Jove , my quick study of lexicography won a prize .',\n",
    "    'This is a short sentence .']\n",
    "text_tokenized, text_tokenizer = tokenize(text_sentences)\n",
    "print(text_tokenizer.word_index)\n",
    "print()\n",
    "for sample_i, (sent, token_sent) in enumerate(zip(text_sentences, text_tokenized)):\n",
    "    print('Sequence {} in x'.format(sample_i + 1))\n",
    "    print('  Input:  {}'.format(sent))\n",
    "    print('  Output: {}'.format(token_sent))"
   ]
  },
  {
   "cell_type": "markdown",
   "metadata": {},
   "source": [
    "### Padding (IMPLEMENTATION)\n",
    "When batching the sequence of word ids together, each sequence needs to be the same length.  Since sentences are dynamic in length, we can add padding to the end of the sequences to make them the same length.\n",
    "\n",
    "Make sure all the English sequences have the same length and all the French sequences have the same length by adding padding to the **end** of each sequence using Keras's [`pad_sequences`](https://keras.io/preprocessing/sequence/#pad_sequences) function."
   ]
  },
  {
   "cell_type": "code",
   "execution_count": 8,
   "metadata": {},
   "outputs": [
    {
     "name": "stdout",
     "output_type": "stream",
     "text": [
      "Sequence 1 in x\n",
      "  Input:  [1 2 4 5 6 7 1 8 9]\n",
      "  Output: [1 2 4 5 6 7 1 8 9 0]\n",
      "Sequence 2 in x\n",
      "  Input:  [10 11 12  2 13 14 15 16  3 17]\n",
      "  Output: [10 11 12  2 13 14 15 16  3 17]\n",
      "Sequence 3 in x\n",
      "  Input:  [18 19  3 20 21]\n",
      "  Output: [18 19  3 20 21  0  0  0  0  0]\n"
     ]
    }
   ],
   "source": [
    "def pad(x, length=None):\n",
    "    \"\"\"\n",
    "    Pad x\n",
    "    :param x: List of sequences.\n",
    "    :param length: Length to pad the sequence to.  If None, use length of longest sequence in x.\n",
    "    :return: Padded numpy array of sequences\n",
    "    \"\"\"    \n",
    "    \n",
    "    # TODO: Implement\n",
    "    if length is None:\n",
    "        length = max([len(sentence) for sentence in x])\n",
    "        \n",
    "    # Then, pass it to pad_sentences as the maxlen parameter\n",
    "    x_pad = pad_sequences(x, maxlen=length, dtype='int32', padding='post', truncating='post', value=0.0)\n",
    "\n",
    "    return x_pad\n",
    "\n",
    "tests.test_pad(pad)\n",
    "\n",
    "# Pad Tokenized output\n",
    "test_pad = pad(text_tokenized)\n",
    "for sample_i, (token_sent, pad_sent) in enumerate(zip(text_tokenized, test_pad)):\n",
    "    print('Sequence {} in x'.format(sample_i + 1))\n",
    "    print('  Input:  {}'.format(np.array(token_sent)))\n",
    "    print('  Output: {}'.format(pad_sent))"
   ]
  },
  {
   "cell_type": "markdown",
   "metadata": {},
   "source": [
    "### Preprocess Pipeline\n",
    "Your focus for this project is to build neural network architecture, so we won't ask you to create a preprocess pipeline.  Instead, we've provided you with the implementation of the `preprocess` function."
   ]
  },
  {
   "cell_type": "code",
   "execution_count": 9,
   "metadata": {},
   "outputs": [
    {
     "name": "stdout",
     "output_type": "stream",
     "text": [
      "Data Preprocessed\n",
      "Max English sentence length: 15\n",
      "Max French sentence length: 21\n",
      "English vocabulary size: 199\n",
      "French vocabulary size: 344\n"
     ]
    }
   ],
   "source": [
    "def preprocess(x, y):\n",
    "    \"\"\"\n",
    "    Preprocess x and y\n",
    "    :param x: Feature List of sentences\n",
    "    :param y: Label List of sentences\n",
    "    :return: Tuple of (Preprocessed x, Preprocessed y, x tokenizer, y tokenizer)\n",
    "    \"\"\"\n",
    "    preprocess_x, x_tk = tokenize(x)\n",
    "    preprocess_y, y_tk = tokenize(y)\n",
    "\n",
    "    preprocess_x = pad(preprocess_x)\n",
    "    preprocess_y = pad(preprocess_y)\n",
    "\n",
    "    # Keras's sparse_categorical_crossentropy function requires the labels to be in 3 dimensions\n",
    "    preprocess_y = preprocess_y.reshape(*preprocess_y.shape, 1)\n",
    "\n",
    "    return preprocess_x, preprocess_y, x_tk, y_tk\n",
    "\n",
    "preproc_english_sentences, preproc_french_sentences, english_tokenizer, french_tokenizer =\\\n",
    "    preprocess(english_sentences, french_sentences)\n",
    "    \n",
    "max_english_sequence_length = preproc_english_sentences.shape[1]\n",
    "max_french_sequence_length = preproc_french_sentences.shape[1]\n",
    "english_vocab_size = len(english_tokenizer.word_index)\n",
    "french_vocab_size = len(french_tokenizer.word_index)\n",
    "\n",
    "print('Data Preprocessed')\n",
    "print(\"Max English sentence length:\", max_english_sequence_length)\n",
    "print(\"Max French sentence length:\", max_french_sequence_length)\n",
    "print(\"English vocabulary size:\", english_vocab_size)\n",
    "print(\"French vocabulary size:\", french_vocab_size)"
   ]
  },
  {
   "cell_type": "markdown",
   "metadata": {},
   "source": [
    "## Models\n",
    "In this section, you will experiment with various neural network architectures.\n",
    "You will begin by training four relatively simple architectures.\n",
    "- Model 1 is a simple RNN\n",
    "- Model 2 is a RNN with Embedding\n",
    "- Model 3 is a Bidirectional RNN\n",
    "- Model 4 is an optional Encoder-Decoder RNN\n",
    "\n",
    "After experimenting with the four simple architectures, you will construct a deeper architecture that is designed to outperform all four models.\n",
    "### Ids Back to Text\n",
    "The neural network will be translating the input to words ids, which isn't the final form we want.  We want the French translation.  The function `logits_to_text` will bridge the gab between the logits from the neural network to the French translation.  You'll be using this function to better understand the output of the neural network."
   ]
  },
  {
   "cell_type": "code",
   "execution_count": 10,
   "metadata": {},
   "outputs": [
    {
     "name": "stdout",
     "output_type": "stream",
     "text": [
      "`logits_to_text` function loaded.\n"
     ]
    }
   ],
   "source": [
    "def logits_to_text(logits, tokenizer):\n",
    "    \"\"\"\n",
    "    Turn logits from a neural network into text using the tokenizer\n",
    "    :param logits: Logits from a neural network\n",
    "    :param tokenizer: Keras Tokenizer fit on the labels\n",
    "    :return: String that represents the text of the logits\n",
    "    \"\"\"\n",
    "    index_to_words = {id: word for word, id in tokenizer.word_index.items()}\n",
    "    index_to_words[0] = '<PAD>'\n",
    "\n",
    "    return ' '.join([index_to_words[prediction] for prediction in np.argmax(logits, 1)])\n",
    "\n",
    "print('`logits_to_text` function loaded.')"
   ]
  },
  {
   "cell_type": "markdown",
   "metadata": {},
   "source": [
    "### Model 1: RNN (IMPLEMENTATION)\n",
    "![RNN](images/rnn.png)\n",
    "A basic RNN model is a good baseline for sequence data.  In this model, you'll build a RNN that translates English to French."
   ]
  },
  {
   "cell_type": "code",
   "execution_count": 11,
   "metadata": {},
   "outputs": [
    {
     "name": "stdout",
     "output_type": "stream",
     "text": [
      "RNN shape: (?, ?, 128)\n",
      "Logits: (?, 21, 344)\n",
      "(137861, 21, 1)\n",
      "RNN shape: (?, ?, 128)\n",
      "Logits: (?, 21, 344)\n",
      "Train on 110288 samples, validate on 27573 samples\n",
      "Epoch 1/20\n",
      "110288/110288 [==============================] - 10s 91us/step - loss: 2.9839 - acc: 0.4395 - val_loss: nan - val_acc: 0.4813\n",
      "Epoch 2/20\n",
      "110288/110288 [==============================] - 8s 72us/step - loss: 2.0490 - acc: 0.5312 - val_loss: nan - val_acc: 0.5654\n",
      "Epoch 3/20\n",
      "110288/110288 [==============================] - 8s 72us/step - loss: 1.7023 - acc: 0.5798 - val_loss: nan - val_acc: 0.5960\n",
      "Epoch 4/20\n",
      "110288/110288 [==============================] - 8s 72us/step - loss: 1.5499 - acc: 0.5997 - val_loss: nan - val_acc: 0.6095\n",
      "Epoch 5/20\n",
      "110288/110288 [==============================] - 8s 72us/step - loss: 1.4507 - acc: 0.6156 - val_loss: nan - val_acc: 0.6182\n",
      "Epoch 6/20\n",
      "110288/110288 [==============================] - 8s 72us/step - loss: 1.3705 - acc: 0.6284 - val_loss: nan - val_acc: 0.6326\n",
      "Epoch 7/20\n",
      "110288/110288 [==============================] - 8s 72us/step - loss: 1.3043 - acc: 0.6406 - val_loss: nan - val_acc: 0.6465\n",
      "Epoch 8/20\n",
      "110288/110288 [==============================] - 8s 72us/step - loss: 1.2509 - acc: 0.6492 - val_loss: nan - val_acc: 0.6519\n",
      "Epoch 9/20\n",
      "110288/110288 [==============================] - 8s 72us/step - loss: 1.2098 - acc: 0.6545 - val_loss: nan - val_acc: 0.6563\n",
      "Epoch 10/20\n",
      "110288/110288 [==============================] - 8s 72us/step - loss: 1.1777 - acc: 0.6588 - val_loss: nan - val_acc: 0.6594\n",
      "Epoch 11/20\n",
      "110288/110288 [==============================] - 8s 73us/step - loss: 1.1502 - acc: 0.6612 - val_loss: nan - val_acc: 0.6622\n",
      "Epoch 12/20\n",
      "110288/110288 [==============================] - 8s 72us/step - loss: 1.1273 - acc: 0.6642 - val_loss: nan - val_acc: 0.6649\n",
      "Epoch 13/20\n",
      "110288/110288 [==============================] - 8s 72us/step - loss: 1.1059 - acc: 0.6675 - val_loss: nan - val_acc: 0.6717\n",
      "Epoch 14/20\n",
      "110288/110288 [==============================] - 8s 72us/step - loss: 1.0876 - acc: 0.6696 - val_loss: nan - val_acc: 0.6690\n",
      "Epoch 15/20\n",
      "110288/110288 [==============================] - 8s 72us/step - loss: 1.0701 - acc: 0.6726 - val_loss: nan - val_acc: 0.6721\n",
      "Epoch 16/20\n",
      "110288/110288 [==============================] - 8s 71us/step - loss: 1.0544 - acc: 0.6753 - val_loss: nan - val_acc: 0.6782\n",
      "Epoch 17/20\n",
      "110288/110288 [==============================] - 8s 72us/step - loss: 1.0397 - acc: 0.6766 - val_loss: nan - val_acc: 0.6759\n",
      "Epoch 18/20\n",
      "110288/110288 [==============================] - 8s 72us/step - loss: 1.0256 - acc: 0.6787 - val_loss: nan - val_acc: 0.6829\n",
      "Epoch 19/20\n",
      "110288/110288 [==============================] - 8s 72us/step - loss: 1.0123 - acc: 0.6815 - val_loss: nan - val_acc: 0.6824\n",
      "Epoch 20/20\n",
      "110288/110288 [==============================] - 8s 73us/step - loss: 0.9991 - acc: 0.6834 - val_loss: nan - val_acc: 0.6878\n",
      "new jersey est parfois calme en mois de mai et il est en en <PAD> <PAD> <PAD> <PAD> <PAD> <PAD> <PAD>\n"
     ]
    }
   ],
   "source": [
    "def simple_model(input_shape, output_sequence_length, english_vocab_size, french_vocab_size):\n",
    "    \"\"\"\n",
    "    Build and train a basic RNN on x and y\n",
    "    :param input_shape: Tuple of input shape\n",
    "    :param output_sequence_length: Length of output sequence\n",
    "    :param english_vocab_size: Number of unique English words in the dataset\n",
    "    :param french_vocab_size: Number of unique French words in the dataset\n",
    "    :return: Keras model built, but not trained\n",
    "    \"\"\"\n",
    "    # TODO: Build the layers\n",
    "    \n",
    "    learning_rate = 1e-3\n",
    "    hidden_units = 128\n",
    "\n",
    "    input_seq = Input(input_shape[1:])\n",
    "    rnn = GRU(hidden_units, return_sequences=True)(input_seq)\n",
    "    print(\"RNN shape:\",rnn.shape)\n",
    "    logits = TimeDistributed(Dense(french_vocab_size))(rnn)\n",
    "    print(\"Logits:\", logits.shape)\n",
    "    model = Model(input_seq, Activation('softmax')(logits))\n",
    "    model.compile(loss=sparse_categorical_crossentropy,\n",
    "                  optimizer=Adam(learning_rate),\n",
    "                  metrics=['accuracy'])\n",
    "    return model\n",
    "\n",
    "tests.test_simple_model(simple_model)\n",
    "\n",
    "# Reshaping the input to work with a basic RNN\n",
    "# First we pad our input to match the longest language\n",
    "tmp_x = pad(preproc_english_sentences, max_french_sequence_length)\n",
    "\n",
    "# An LSTM/RNN needs to receive 3 dimensions: (sample size, # of time steps and # of features)\n",
    "# # of time steps is the number of words in our sequence\n",
    "# # of features is 1 since we simply use words\n",
    "# -1 indicates that reshape needs to figure out that dimension itself by using the input matrix.\n",
    "# Check out this article: https://machinelearningmastery.com/reshape-input-data-long-short-term-memory-networks-keras/\n",
    "tmp_x = tmp_x.reshape((-1, preproc_french_sentences.shape[-2], 1))\n",
    "\n",
    "print(tmp_x.shape)\n",
    "\n",
    "# Train the neural network\n",
    "simple_rnn_model = simple_model(\n",
    "    tmp_x.shape,\n",
    "    max_french_sequence_length,\n",
    "    english_vocab_size,\n",
    "    french_vocab_size)\n",
    "simple_rnn_model.fit(tmp_x, preproc_french_sentences, batch_size=1024, epochs=20, validation_split=0.2)\n",
    "\n",
    "# Print prediction(s)\n",
    "print(logits_to_text(simple_rnn_model.predict(tmp_x[:1])[0], french_tokenizer))"
   ]
  },
  {
   "cell_type": "markdown",
   "metadata": {},
   "source": [
    "### Model 2: Embedding (IMPLEMENTATION)\n",
    "![RNN](images/embedding.png)\n",
    "You've turned the words into ids, but there's a better representation of a word.  This is called word embeddings.  An embedding is a vector representation of the word that is close to similar words in n-dimensional space, where the n represents the size of the embedding vectors.\n",
    "\n",
    "In this model, you'll create a RNN model using embedding."
   ]
  },
  {
   "cell_type": "code",
   "execution_count": 12,
   "metadata": {},
   "outputs": [
    {
     "name": "stdout",
     "output_type": "stream",
     "text": [
      "Train on 110288 samples, validate on 27573 samples\n",
      "Epoch 1/20\n",
      "110288/110288 [==============================] - 9s 84us/step - loss: 3.5369 - acc: 0.4043 - val_loss: nan - val_acc: 0.4095\n",
      "Epoch 2/20\n",
      "110288/110288 [==============================] - 9s 80us/step - loss: 2.5850 - acc: 0.4646 - val_loss: nan - val_acc: 0.4953\n",
      "Epoch 3/20\n",
      "110288/110288 [==============================] - 9s 80us/step - loss: 2.1791 - acc: 0.5277 - val_loss: nan - val_acc: 0.5598\n",
      "Epoch 4/20\n",
      "110288/110288 [==============================] - 9s 80us/step - loss: 1.7069 - acc: 0.5909 - val_loss: nan - val_acc: 0.6282\n",
      "Epoch 5/20\n",
      "110288/110288 [==============================] - 9s 80us/step - loss: 1.4189 - acc: 0.6487 - val_loss: nan - val_acc: 0.6691\n",
      "Epoch 6/20\n",
      "110288/110288 [==============================] - 9s 80us/step - loss: 1.2215 - acc: 0.6948 - val_loss: nan - val_acc: 0.7186\n",
      "Epoch 7/20\n",
      "110288/110288 [==============================] - 9s 81us/step - loss: 1.0562 - acc: 0.7395 - val_loss: nan - val_acc: 0.7588\n",
      "Epoch 8/20\n",
      "110288/110288 [==============================] - 9s 80us/step - loss: 0.9025 - acc: 0.7737 - val_loss: nan - val_acc: 0.7878\n",
      "Epoch 9/20\n",
      "110288/110288 [==============================] - 9s 81us/step - loss: 0.7766 - acc: 0.7989 - val_loss: nan - val_acc: 0.8106\n",
      "Epoch 10/20\n",
      "110288/110288 [==============================] - 9s 80us/step - loss: 0.6810 - acc: 0.8191 - val_loss: nan - val_acc: 0.8295\n",
      "Epoch 11/20\n",
      "110288/110288 [==============================] - 9s 80us/step - loss: 0.6072 - acc: 0.8348 - val_loss: nan - val_acc: 0.8395\n",
      "Epoch 12/20\n",
      "110288/110288 [==============================] - 9s 81us/step - loss: 0.5525 - acc: 0.8464 - val_loss: nan - val_acc: 0.8535\n",
      "Epoch 13/20\n",
      "110288/110288 [==============================] - 9s 80us/step - loss: 0.5073 - acc: 0.8572 - val_loss: nan - val_acc: 0.8618\n",
      "Epoch 14/20\n",
      "110288/110288 [==============================] - 9s 80us/step - loss: 0.4712 - acc: 0.8658 - val_loss: nan - val_acc: 0.8704\n",
      "Epoch 15/20\n",
      "110288/110288 [==============================] - 9s 80us/step - loss: 0.4394 - acc: 0.8734 - val_loss: nan - val_acc: 0.8760\n",
      "Epoch 16/20\n",
      "110288/110288 [==============================] - 9s 80us/step - loss: 0.4126 - acc: 0.8799 - val_loss: nan - val_acc: 0.8815\n",
      "Epoch 17/20\n",
      "110288/110288 [==============================] - 9s 80us/step - loss: 0.3912 - acc: 0.8850 - val_loss: nan - val_acc: 0.8867\n",
      "Epoch 18/20\n",
      "110288/110288 [==============================] - 9s 80us/step - loss: 0.3726 - acc: 0.8894 - val_loss: nan - val_acc: 0.8918\n",
      "Epoch 19/20\n",
      "110288/110288 [==============================] - 9s 79us/step - loss: 0.3566 - acc: 0.8933 - val_loss: nan - val_acc: 0.8962\n",
      "Epoch 20/20\n",
      "110288/110288 [==============================] - 9s 81us/step - loss: 0.3429 - acc: 0.8968 - val_loss: nan - val_acc: 0.8982\n",
      "new jersey est parfois calme en l' et il il est neigeux en avril <PAD> <PAD> <PAD> <PAD> <PAD> <PAD> <PAD>\n"
     ]
    }
   ],
   "source": [
    "def embed_model(input_shape, output_sequence_length, english_vocab_size, french_vocab_size):\n",
    "    \"\"\"\n",
    "    Build and train a RNN model using word embedding on x and y\n",
    "    :param input_shape: Tuple of input shape\n",
    "    :param output_sequence_length: Length of output sequence\n",
    "    :param english_vocab_size: Number of unique English words in the dataset\n",
    "    :param french_vocab_size: Number of unique French words in the dataset\n",
    "    :return: Keras model built, but not trained\n",
    "    \"\"\"\n",
    "    # TODO: Implement\n",
    "    \n",
    "    # Hyper-parameters\n",
    "    embedding_size = 32\n",
    "    learning_rate = 1e-3\n",
    "    hidden_units = 128\n",
    "\n",
    "    # Model\n",
    "    input_seq = Input(input_shape[1:])\n",
    "    embedded_input = Embedding(english_vocab_size, embedding_size)(input_seq)\n",
    "    rnn = GRU(hidden_units, return_sequences=True)(embedded_input)\n",
    "    logits = TimeDistributed(Dense(french_vocab_size))(rnn)\n",
    "\n",
    "    model = Model(input_seq, Activation('softmax')(logits))\n",
    "    model.compile(loss=sparse_categorical_crossentropy,\n",
    "                  optimizer=Adam(learning_rate),\n",
    "                  metrics=['accuracy'])\n",
    "    return model\n",
    "    \n",
    "tests.test_embed_model(embed_model)\n",
    "\n",
    "# TODO: Reshape the input\n",
    "tmp_x = pad(preproc_english_sentences, max_french_sequence_length)\n",
    "# with embedding, we just expect 2 dimensions: the # of samples and the max # of words\n",
    "# we don't need the # of features (1) that we used for RNN\n",
    "tmp_x = tmp_x.reshape((-1, preproc_french_sentences.shape[-2]))\n",
    "\n",
    "# Train the neural network\n",
    "embedded_model = embed_model(\n",
    "    tmp_x.shape,\n",
    "    max_french_sequence_length,\n",
    "    english_vocab_size,\n",
    "    french_vocab_size)\n",
    "embedded_model.fit(tmp_x, preproc_french_sentences, batch_size=1024, epochs=20, validation_split=0.2)\n",
    "\n",
    "# Print prediction(s)\n",
    "print(logits_to_text(embedded_model.predict(tmp_x[:1])[0], french_tokenizer))"
   ]
  },
  {
   "cell_type": "markdown",
   "metadata": {},
   "source": [
    "### Model 3: Bidirectional RNNs (IMPLEMENTATION)\n",
    "![RNN](images/bidirectional.png)\n",
    "One restriction of a RNN is that it can't see the future input, only the past.  This is where bidirectional recurrent neural networks come in.  They are able to see the future data."
   ]
  },
  {
   "cell_type": "code",
   "execution_count": 13,
   "metadata": {},
   "outputs": [
    {
     "name": "stdout",
     "output_type": "stream",
     "text": [
      "Train on 110288 samples, validate on 27573 samples\n",
      "Epoch 1/20\n",
      "110288/110288 [==============================] - 13s 116us/step - loss: 2.6360 - acc: 0.5082 - val_loss: nan - val_acc: 0.5766\n",
      "Epoch 2/20\n",
      "110288/110288 [==============================] - 12s 109us/step - loss: 1.5519 - acc: 0.6008 - val_loss: nan - val_acc: 0.6173\n",
      "Epoch 3/20\n",
      "110288/110288 [==============================] - 12s 109us/step - loss: 1.3555 - acc: 0.6273 - val_loss: nan - val_acc: 0.6371\n",
      "Epoch 4/20\n",
      "110288/110288 [==============================] - 12s 110us/step - loss: 1.2529 - acc: 0.6454 - val_loss: nan - val_acc: 0.6550\n",
      "Epoch 5/20\n",
      "110288/110288 [==============================] - 12s 110us/step - loss: 1.1786 - acc: 0.6618 - val_loss: nan - val_acc: 0.6711\n",
      "Epoch 6/20\n",
      "110288/110288 [==============================] - 12s 110us/step - loss: 1.1226 - acc: 0.6729 - val_loss: nan - val_acc: 0.6759\n",
      "Epoch 7/20\n",
      "110288/110288 [==============================] - 12s 111us/step - loss: 1.0774 - acc: 0.6798 - val_loss: nan - val_acc: 0.6849\n",
      "Epoch 8/20\n",
      "110288/110288 [==============================] - 12s 111us/step - loss: 1.0386 - acc: 0.6871 - val_loss: nan - val_acc: 0.6914\n",
      "Epoch 9/20\n",
      "110288/110288 [==============================] - 12s 110us/step - loss: 1.0057 - acc: 0.6921 - val_loss: nan - val_acc: 0.6934\n",
      "Epoch 10/20\n",
      "110288/110288 [==============================] - 12s 110us/step - loss: 0.9779 - acc: 0.6966 - val_loss: nan - val_acc: 0.6990\n",
      "Epoch 11/20\n",
      "110288/110288 [==============================] - 12s 111us/step - loss: 0.9538 - acc: 0.7003 - val_loss: nan - val_acc: 0.7026\n",
      "Epoch 12/20\n",
      "110288/110288 [==============================] - 12s 110us/step - loss: 0.9325 - acc: 0.7041 - val_loss: nan - val_acc: 0.7045\n",
      "Epoch 13/20\n",
      "110288/110288 [==============================] - 12s 110us/step - loss: 0.9130 - acc: 0.7070 - val_loss: nan - val_acc: 0.7071\n",
      "Epoch 14/20\n",
      "110288/110288 [==============================] - 12s 110us/step - loss: 0.8936 - acc: 0.7106 - val_loss: nan - val_acc: 0.7121\n",
      "Epoch 15/20\n",
      "110288/110288 [==============================] - 12s 110us/step - loss: 0.8749 - acc: 0.7144 - val_loss: nan - val_acc: 0.7159\n",
      "Epoch 16/20\n",
      "110288/110288 [==============================] - 12s 110us/step - loss: 0.8573 - acc: 0.7176 - val_loss: nan - val_acc: 0.7198\n",
      "Epoch 17/20\n",
      "110288/110288 [==============================] - 12s 110us/step - loss: 0.8420 - acc: 0.7215 - val_loss: nan - val_acc: 0.7207\n",
      "Epoch 18/20\n",
      "110288/110288 [==============================] - 12s 111us/step - loss: 0.8280 - acc: 0.7251 - val_loss: nan - val_acc: 0.7257\n",
      "Epoch 19/20\n",
      "110288/110288 [==============================] - 12s 110us/step - loss: 0.8144 - acc: 0.7285 - val_loss: nan - val_acc: 0.7303\n",
      "Epoch 20/20\n",
      "110288/110288 [==============================] - 12s 109us/step - loss: 0.8035 - acc: 0.7312 - val_loss: nan - val_acc: 0.7303\n",
      "new jersey est parfois calme en mois de il il il est en en <PAD> <PAD> <PAD> <PAD> <PAD> <PAD> <PAD>\n"
     ]
    }
   ],
   "source": [
    "def bd_model(input_shape, output_sequence_length, english_vocab_size, french_vocab_size):\n",
    "    \"\"\"\n",
    "    Build and train a bidirectional RNN model on x and y\n",
    "    :param input_shape: Tuple of input shape\n",
    "    :param output_sequence_length: Length of output sequence\n",
    "    :param english_vocab_size: Number of unique English words in the dataset\n",
    "    :param french_vocab_size: Number of unique French words in the dataset\n",
    "    :return: Keras model built, but not trained\n",
    "    \"\"\"\n",
    "    # TODO: Implement\n",
    "    \n",
    "    # TODO: Build the layers\n",
    "    learning_rate = 1e-3\n",
    "    hidden_units = 128\n",
    "\n",
    "    input_seq = Input(input_shape[1:])\n",
    "    bidi_rnn = Bidirectional(GRU(hidden_units, return_sequences=True))(input_seq)\n",
    "    logits = TimeDistributed(Dense(french_vocab_size))(bidi_rnn)\n",
    "\n",
    "    model = Model(input_seq, Activation('softmax')(logits))\n",
    "    model.compile(loss=sparse_categorical_crossentropy,\n",
    "                  optimizer=Adam(learning_rate),\n",
    "                  metrics=['accuracy'])\n",
    "    return model\n",
    "\n",
    "tests.test_bd_model(bd_model)\n",
    "\n",
    "# TODO: Train and Print prediction(s)\n",
    "# Reshaping the input to work with a bidi RNN\n",
    "tmp_x = pad(preproc_english_sentences, max_french_sequence_length)\n",
    "#we're back to where we need to provide 3 dimensions to our RNN\n",
    "tmp_x = tmp_x.reshape((-1, preproc_french_sentences.shape[-2], 1))\n",
    "\n",
    "# Train the neural network\n",
    "bidi_rnn_model = bd_model(\n",
    "    tmp_x.shape,\n",
    "    max_french_sequence_length,\n",
    "    english_vocab_size,\n",
    "    french_vocab_size)\n",
    "bidi_rnn_model.fit(tmp_x, preproc_french_sentences, batch_size=1024, epochs=20, validation_split=0.2)\n",
    "\n",
    "# Print prediction(s)\n",
    "print(logits_to_text(bidi_rnn_model.predict(tmp_x[:1])[0], french_tokenizer))"
   ]
  },
  {
   "cell_type": "markdown",
   "metadata": {},
   "source": [
    "### Model 4: Encoder-Decoder (OPTIONAL)\n",
    "Time to look at encoder-decoder models.  This model is made up of an encoder and decoder. The encoder creates a matrix representation of the sentence.  The decoder takes this matrix as input and predicts the translation as output.\n",
    "\n",
    "Create an encoder-decoder model in the cell below."
   ]
  },
  {
   "cell_type": "code",
   "execution_count": 15,
   "metadata": {},
   "outputs": [
    {
     "name": "stdout",
     "output_type": "stream",
     "text": [
      "Train on 110288 samples, validate on 27573 samples\n",
      "Epoch 1/20\n",
      "110288/110288 [==============================] - 12s 111us/step - loss: 3.9788 - acc: 0.4044 - val_loss: nan - val_acc: 0.4093\n",
      "Epoch 2/20\n",
      "110288/110288 [==============================] - 11s 103us/step - loss: 2.7563 - acc: 0.4082 - val_loss: nan - val_acc: 0.4093\n",
      "Epoch 3/20\n",
      "110288/110288 [==============================] - 11s 104us/step - loss: 2.3751 - acc: 0.4719 - val_loss: nan - val_acc: 0.4963\n",
      "Epoch 4/20\n",
      "110288/110288 [==============================] - 11s 104us/step - loss: 2.1604 - acc: 0.4991 - val_loss: nan - val_acc: 0.5054\n",
      "Epoch 5/20\n",
      "110288/110288 [==============================] - 11s 104us/step - loss: 2.0445 - acc: 0.5102 - val_loss: nan - val_acc: 0.5182\n",
      "Epoch 6/20\n",
      "110288/110288 [==============================] - 11s 103us/step - loss: 1.9579 - acc: 0.5184 - val_loss: nan - val_acc: 0.5206\n",
      "Epoch 7/20\n",
      "110288/110288 [==============================] - 11s 103us/step - loss: 1.8741 - acc: 0.5243 - val_loss: nan - val_acc: 0.5389\n",
      "Epoch 8/20\n",
      "110288/110288 [==============================] - 11s 103us/step - loss: 1.8015 - acc: 0.5432 - val_loss: nan - val_acc: 0.5542\n",
      "Epoch 9/20\n",
      "110288/110288 [==============================] - 11s 103us/step - loss: 1.7367 - acc: 0.5565 - val_loss: nan - val_acc: 0.5616\n",
      "Epoch 10/20\n",
      "110288/110288 [==============================] - 11s 104us/step - loss: 1.6848 - acc: 0.5651 - val_loss: nan - val_acc: 0.5693\n",
      "Epoch 11/20\n",
      "110288/110288 [==============================] - 11s 104us/step - loss: 1.6419 - acc: 0.5731 - val_loss: nan - val_acc: 0.5771\n",
      "Epoch 12/20\n",
      "110288/110288 [==============================] - 11s 103us/step - loss: 1.6025 - acc: 0.5840 - val_loss: nan - val_acc: 0.5878\n",
      "Epoch 13/20\n",
      "110288/110288 [==============================] - 11s 104us/step - loss: 1.5646 - acc: 0.5896 - val_loss: nan - val_acc: 0.5945\n",
      "Epoch 14/20\n",
      "110288/110288 [==============================] - 11s 104us/step - loss: 1.5303 - acc: 0.5948 - val_loss: nan - val_acc: 0.5968\n",
      "Epoch 15/20\n",
      "110288/110288 [==============================] - 11s 103us/step - loss: 1.5003 - acc: 0.6002 - val_loss: nan - val_acc: 0.6066\n",
      "Epoch 16/20\n",
      "110288/110288 [==============================] - 11s 103us/step - loss: 1.4713 - acc: 0.6069 - val_loss: nan - val_acc: 0.6105\n",
      "Epoch 17/20\n",
      "110288/110288 [==============================] - 11s 104us/step - loss: 1.4454 - acc: 0.6109 - val_loss: nan - val_acc: 0.6141\n",
      "Epoch 18/20\n",
      "110288/110288 [==============================] - 11s 104us/step - loss: 1.4199 - acc: 0.6164 - val_loss: nan - val_acc: 0.6197\n",
      "Epoch 19/20\n",
      "110288/110288 [==============================] - 11s 104us/step - loss: 1.4008 - acc: 0.6205 - val_loss: nan - val_acc: 0.6255\n",
      "Epoch 20/20\n",
      "110288/110288 [==============================] - 11s 104us/step - loss: 1.3715 - acc: 0.6259 - val_loss: nan - val_acc: 0.6253\n",
      "new jersey est parfois en en mois et il est est en en <PAD> <PAD> <PAD> <PAD> <PAD> <PAD> <PAD> <PAD>\n"
     ]
    }
   ],
   "source": [
    "from keras.layers import LSTM\n",
    "\n",
    "def encdec_model(input_shape, output_sequence_length, english_vocab_size, french_vocab_size):\n",
    "    \"\"\"\n",
    "    Build and train an encoder-decoder model on x and y\n",
    "    :param input_shape: Tuple of input shape\n",
    "    :param output_sequence_length: Length of output sequence\n",
    "    :param english_vocab_size: Number of unique English words in the dataset\n",
    "    :param french_vocab_size: Number of unique French words in the dataset\n",
    "    :return: Keras model built, but not trained\n",
    "    \"\"\"\n",
    "    # OPTIONAL: Implement    \n",
    "    learning_rate = 1e-3\n",
    "    hidden_units = 128\n",
    "\n",
    "    encoder_input_seq = Input(input_shape[1:])\n",
    "    rnn_encoder_output = GRU(hidden_units)(encoder_input_seq)\n",
    "    \n",
    "    # create the RepeatVector to pass on the encoder results to the decoder\n",
    "    # we want to repeat the vector as many times as we need for the output sequence.\n",
    "    decoder_inputs = RepeatVector(output_sequence_length)(rnn_encoder_output)  \n",
    "    \n",
    "    rnn_dec_out = GRU(hidden_units,return_sequences = True)(decoder_inputs)\n",
    "    logits = TimeDistributed(Dense(french_vocab_size))(rnn_dec_out)\n",
    "\n",
    "    logits = Activation('sigmoid')(logits)\n",
    "                             \n",
    "    model = Model(inputs = encoder_input_seq, outputs = logits)\n",
    "                             \n",
    "    model.compile(loss=sparse_categorical_crossentropy,\n",
    "                  optimizer=Adam(learning_rate),\n",
    "                  metrics=['accuracy'])\n",
    "    \n",
    "    return model\n",
    "    \n",
    "tests.test_encdec_model(encdec_model)\n",
    "\n",
    "# OPTIONAL: Train and Print prediction(s)\n",
    "\n",
    "# TODO: Train and Print prediction(s)\n",
    "# Reshaping the input to work with an encoder-decoder RNN model\n",
    "tmp_x = pad(preproc_english_sentences, max_french_sequence_length)\n",
    "#we're back to where we need to provide 3 dimensions to our RNN\n",
    "tmp_x = tmp_x.reshape((-1, preproc_french_sentences.shape[-2], 1))\n",
    "\n",
    "# Train the neural network\n",
    "encdec_rnn_model = encdec_model(\n",
    "    tmp_x.shape,\n",
    "    max_french_sequence_length,\n",
    "    english_vocab_size,\n",
    "    french_vocab_size)\n",
    "encdec_rnn_model.fit(tmp_x, preproc_french_sentences, batch_size=1024, epochs=20, validation_split=0.2)\n",
    "\n",
    "# Print prediction(s)\n",
    "print(logits_to_text(encdec_rnn_model.predict(tmp_x[:1])[0], french_tokenizer))\n"
   ]
  },
  {
   "cell_type": "markdown",
   "metadata": {},
   "source": [
    "### Model 5: Custom (IMPLEMENTATION)\n",
    "Use everything you learned from the previous models to create a model that incorporates embedding and a bidirectional rnn into one model."
   ]
  },
  {
   "cell_type": "code",
   "execution_count": 16,
   "metadata": {},
   "outputs": [
    {
     "name": "stdout",
     "output_type": "stream",
     "text": [
      "Input shape: (?, 21)\n",
      "(?, 21, 32)\n",
      "Logits shape: (?, 21, 344)\n",
      "Train on 110288 samples, validate on 27573 samples\n",
      "Epoch 1/20\n",
      "110288/110288 [==============================] - 15s 135us/step - loss: 3.2211 - acc: 0.4375 - val_loss: nan - val_acc: 0.4749\n",
      "Epoch 2/20\n",
      "110288/110288 [==============================] - 14s 127us/step - loss: 2.3527 - acc: 0.4949 - val_loss: nan - val_acc: 0.5463\n",
      "Epoch 3/20\n",
      "110288/110288 [==============================] - 14s 126us/step - loss: 1.6488 - acc: 0.5909 - val_loss: nan - val_acc: 0.6289\n",
      "Epoch 4/20\n",
      "110288/110288 [==============================] - 14s 126us/step - loss: 1.2838 - acc: 0.6737 - val_loss: nan - val_acc: 0.7206\n",
      "Epoch 5/20\n",
      "110288/110288 [==============================] - 14s 127us/step - loss: 0.9960 - acc: 0.7458 - val_loss: nan - val_acc: 0.7693\n",
      "Epoch 6/20\n",
      "110288/110288 [==============================] - 14s 126us/step - loss: 0.8101 - acc: 0.7838 - val_loss: nan - val_acc: 0.7996\n",
      "Epoch 7/20\n",
      "110288/110288 [==============================] - 14s 126us/step - loss: 0.6814 - acc: 0.8117 - val_loss: nan - val_acc: 0.8244\n",
      "Epoch 8/20\n",
      "110288/110288 [==============================] - 14s 127us/step - loss: 0.5833 - acc: 0.8343 - val_loss: nan - val_acc: 0.8458\n",
      "Epoch 9/20\n",
      "110288/110288 [==============================] - 14s 127us/step - loss: 0.5062 - acc: 0.8539 - val_loss: nan - val_acc: 0.8631\n",
      "Epoch 10/20\n",
      "110288/110288 [==============================] - 14s 126us/step - loss: 0.4452 - acc: 0.8709 - val_loss: nan - val_acc: 0.8781\n",
      "Epoch 11/20\n",
      "110288/110288 [==============================] - 14s 127us/step - loss: 0.3970 - acc: 0.8855 - val_loss: nan - val_acc: 0.8923\n",
      "Epoch 12/20\n",
      "110288/110288 [==============================] - 14s 125us/step - loss: 0.3558 - acc: 0.8973 - val_loss: nan - val_acc: 0.9027\n",
      "Epoch 13/20\n",
      "110288/110288 [==============================] - 14s 126us/step - loss: 0.3214 - acc: 0.9068 - val_loss: nan - val_acc: 0.9087\n",
      "Epoch 14/20\n",
      "110288/110288 [==============================] - 14s 127us/step - loss: 0.2937 - acc: 0.9140 - val_loss: nan - val_acc: 0.9167\n",
      "Epoch 15/20\n",
      "110288/110288 [==============================] - 14s 127us/step - loss: 0.2713 - acc: 0.9204 - val_loss: nan - val_acc: 0.9223\n",
      "Epoch 16/20\n",
      "110288/110288 [==============================] - 14s 127us/step - loss: 0.2512 - acc: 0.9261 - val_loss: nan - val_acc: 0.9272\n",
      "Epoch 17/20\n",
      "110288/110288 [==============================] - 14s 127us/step - loss: 0.2371 - acc: 0.9301 - val_loss: nan - val_acc: 0.9318\n",
      "Epoch 18/20\n",
      "110288/110288 [==============================] - 14s 126us/step - loss: 0.2195 - acc: 0.9354 - val_loss: nan - val_acc: 0.9343\n",
      "Epoch 19/20\n",
      "110288/110288 [==============================] - 14s 128us/step - loss: 0.2091 - acc: 0.9386 - val_loss: nan - val_acc: 0.9402\n",
      "Epoch 20/20\n",
      "110288/110288 [==============================] - 14s 128us/step - loss: 0.1959 - acc: 0.9426 - val_loss: nan - val_acc: 0.9424\n",
      "new jersey est parfois calme au l'automne et et il neigeux en avril <PAD> <PAD> <PAD> <PAD> <PAD> <PAD> <PAD> <PAD>\n",
      "Final Model Loaded\n"
     ]
    }
   ],
   "source": [
    "def model_final(input_shape, output_sequence_length, english_vocab_size, french_vocab_size):\n",
    "    \"\"\"Build and train a model that incorporates embedding, encoder-decoder, and bidirectional RNN on x and y\n",
    "    :param input_shape: Tuple of input shape\n",
    "    :param output_sequence_length: Length of output sequence\n",
    "    :param english_vocab_size: Number of unique English words in the dataset\n",
    "    :param french_vocab_size: Number of unique French words in the dataset\n",
    "    :return: Keras model built, but not trained\n",
    "    \"\"\"\n",
    "    \n",
    "    # TODO: Implement\n",
    "        \n",
    "    # Hyper-parameters\n",
    "    embedding_size = 32\n",
    "    learning_rate = 1e-3\n",
    "    hidden_units = 128\n",
    "\n",
    "    # Model\n",
    "    input_seq = Input(input_shape[1:])\n",
    "    print(\"Input shape:\", input_seq.shape)\n",
    "    embedded_input = Embedding(english_vocab_size, embedding_size)(input_seq)\n",
    "    print(embedded_input.shape)\n",
    "    bidi_rnn = Bidirectional(GRU(hidden_units, return_sequences=True))(embedded_input)\n",
    "    logits = TimeDistributed(Dense(french_vocab_size))(bidi_rnn)\n",
    "    \n",
    "    print(\"Logits shape:\", logits.shape)\n",
    "    model = Model(input_seq, Activation('softmax')(logits))\n",
    "    model.compile(loss=sparse_categorical_crossentropy,\n",
    "                  optimizer=Adam(learning_rate),\n",
    "                  metrics=['accuracy'])\n",
    "    return model\n",
    "\n",
    "# commenting out this test. Something is wrong with the test itself. complaints about dimensions that are correct.\n",
    "#tests.test_model_final(model_final)\n",
    "\n",
    "# Reshaping the input to work with a bidi-Embedded RNN\n",
    "tmp_x = pad(preproc_english_sentences, max_french_sequence_length)\n",
    "tmp_x = tmp_x.reshape((-1, preproc_french_sentences.shape[-2]))\n",
    "\n",
    "# Train the neural network\n",
    "bidi_embedded_model = model_final(\n",
    "    tmp_x.shape,\n",
    "    max_french_sequence_length,\n",
    "    english_vocab_size,\n",
    "    french_vocab_size)\n",
    "\n",
    "bidi_embedded_model.fit(tmp_x, preproc_french_sentences, batch_size=1024, epochs=20, validation_split=0.2)\n",
    "\n",
    "# Print prediction(s)\n",
    "print(logits_to_text(bidi_embedded_model.predict(tmp_x[:1])[0], french_tokenizer))\n",
    "\n",
    "print('Final Model Loaded')\n",
    "# TODO: Train the final model"
   ]
  },
  {
   "cell_type": "markdown",
   "metadata": {},
   "source": [
    "## Prediction (IMPLEMENTATION)"
   ]
  },
  {
   "cell_type": "code",
   "execution_count": 38,
   "metadata": {},
   "outputs": [
    {
     "name": "stdout",
     "output_type": "stream",
     "text": [
      "Data Preprocessed\n",
      "Max English sentence length: 15\n",
      "Max French sentence length: 21\n",
      "English vocabulary size: 199\n",
      "French vocabulary size: 344\n",
      "Input shape: (?, 21)\n",
      "(?, 21, 32)\n",
      "Logits shape: (?, 21, 344)\n",
      "Train on 110288 samples, validate on 27573 samples\n",
      "Epoch 1/20\n",
      "110288/110288 [==============================] - 18s 161us/step - loss: 3.2424 - acc: 0.4365 - val_loss: nan - val_acc: 0.4756\n",
      "Epoch 2/20\n",
      "110288/110288 [==============================] - 14s 124us/step - loss: 2.3299 - acc: 0.4974 - val_loss: nan - val_acc: 0.5432\n",
      "Epoch 3/20\n",
      "110288/110288 [==============================] - 14s 124us/step - loss: 1.7012 - acc: 0.5783 - val_loss: nan - val_acc: 0.6107\n",
      "Epoch 4/20\n",
      "110288/110288 [==============================] - 14s 124us/step - loss: 1.3347 - acc: 0.6533 - val_loss: nan - val_acc: 0.6955\n",
      "Epoch 5/20\n",
      "110288/110288 [==============================] - 14s 124us/step - loss: 1.0624 - acc: 0.7253 - val_loss: nan - val_acc: 0.7525\n",
      "Epoch 6/20\n",
      "110288/110288 [==============================] - 14s 125us/step - loss: 0.8688 - acc: 0.7711 - val_loss: nan - val_acc: 0.7866\n",
      "Epoch 7/20\n",
      "110288/110288 [==============================] - 14s 125us/step - loss: 0.7313 - acc: 0.7997 - val_loss: nan - val_acc: 0.8141\n",
      "Epoch 8/20\n",
      "110288/110288 [==============================] - 14s 124us/step - loss: 0.6209 - acc: 0.8247 - val_loss: nan - val_acc: 0.8359\n",
      "Epoch 9/20\n",
      "110288/110288 [==============================] - 14s 124us/step - loss: 0.5342 - acc: 0.8462 - val_loss: nan - val_acc: 0.8554\n",
      "Epoch 10/20\n",
      "110288/110288 [==============================] - 14s 124us/step - loss: 0.4649 - acc: 0.8656 - val_loss: nan - val_acc: 0.8737\n",
      "Epoch 11/20\n",
      "110288/110288 [==============================] - 14s 124us/step - loss: 0.4111 - acc: 0.8805 - val_loss: nan - val_acc: 0.8873\n",
      "Epoch 12/20\n",
      "110288/110288 [==============================] - 14s 125us/step - loss: 0.3657 - acc: 0.8936 - val_loss: nan - val_acc: 0.8984\n",
      "Epoch 13/20\n",
      "110288/110288 [==============================] - 14s 125us/step - loss: 0.3278 - acc: 0.9041 - val_loss: nan - val_acc: 0.9081\n",
      "Epoch 14/20\n",
      "110288/110288 [==============================] - 14s 124us/step - loss: 0.2994 - acc: 0.9122 - val_loss: nan - val_acc: 0.9152\n",
      "Epoch 15/20\n",
      "110288/110288 [==============================] - 14s 125us/step - loss: 0.2759 - acc: 0.9192 - val_loss: nan - val_acc: 0.9223\n",
      "Epoch 16/20\n",
      "110288/110288 [==============================] - 14s 125us/step - loss: 0.2542 - acc: 0.9258 - val_loss: nan - val_acc: 0.9266\n",
      "Epoch 17/20\n",
      "110288/110288 [==============================] - 14s 124us/step - loss: 0.2369 - acc: 0.9313 - val_loss: nan - val_acc: 0.9323\n",
      "Epoch 18/20\n",
      "110288/110288 [==============================] - 14s 125us/step - loss: 0.2215 - acc: 0.9358 - val_loss: nan - val_acc: 0.9371\n",
      "Epoch 19/20\n",
      "110288/110288 [==============================] - 14s 125us/step - loss: 0.2078 - acc: 0.9398 - val_loss: nan - val_acc: 0.9379\n",
      "Epoch 20/20\n",
      "110288/110288 [==============================] - 14s 124us/step - loss: 0.1966 - acc: 0.9432 - val_loss: nan - val_acc: 0.9439\n",
      "Sample 1:\n",
      "il a vu un vieux camion jaune <PAD> <PAD> <PAD> <PAD> <PAD> <PAD> <PAD> <PAD> <PAD> <PAD> <PAD> <PAD> <PAD> <PAD>\n",
      "Il a vu un vieux camion jaune\n",
      "Sample 2:\n",
      "new jersey est parfois calme pendant l' de et automne est neigeux en en avril <PAD> <PAD> <PAD> <PAD> <PAD> <PAD>\n",
      "new jersey est parfois calme pendant l' automne et il est neigeux en avril <PAD> <PAD> <PAD> <PAD> <PAD> <PAD> <PAD>\n"
     ]
    }
   ],
   "source": [
    "def final_predictions(x, y, x_tk, y_tk):\n",
    "    \"\"\"\n",
    "    Gets predictions using the final model\n",
    "    :param x: Preprocessed English data\n",
    "    :param y: Preprocessed French data\n",
    "    :param x_tk: English tokenizer\n",
    "    :param y_tk: French tokenizer\n",
    "    \"\"\"\n",
    "    # TODO: Train neural network using model_final\n",
    "    \n",
    "    # prepare data for training with new data set\n",
    "    max_english_sequence_length = x.shape[1]\n",
    "    max_french_sequence_length = y.shape[1]\n",
    "    english_vocab_size = len(x_tk.word_index)\n",
    "    french_vocab_size = len(y_tk.word_index)\n",
    "\n",
    "    print('Data Preprocessed')\n",
    "    print(\"Max English sentence length:\", max_english_sequence_length)\n",
    "    print(\"Max French sentence length:\", max_french_sequence_length)\n",
    "    print(\"English vocabulary size:\", english_vocab_size)\n",
    "    print(\"French vocabulary size:\", french_vocab_size)\n",
    "    \n",
    "    # Reshaping the input to work with a bidi-Embedded RNN\n",
    "    tmp_x = pad(x, max_french_sequence_length)\n",
    "    tmp_x = tmp_x.reshape((-1, y.shape[-2]))\n",
    "\n",
    "    # Train the neural network\n",
    "    model = model_final(\n",
    "        tmp_x.shape,\n",
    "        max_french_sequence_length,\n",
    "        english_vocab_size,\n",
    "        french_vocab_size)\n",
    "\n",
    "    model.fit(tmp_x, y, batch_size=1024, epochs=20, validation_split=0.2)\n",
    "    \n",
    "    ## DON'T EDIT ANYTHING BELOW THIS LINE\n",
    "    y_id_to_word = {value: key for key, value in y_tk.word_index.items()}\n",
    "    y_id_to_word[0] = '<PAD>'\n",
    "\n",
    "    sentence = 'he saw a old yellow truck'\n",
    "    sentence = [x_tk.word_index[word] for word in sentence.split()]\n",
    "    sentence = pad_sequences([sentence], maxlen=max_french_sequence_length, padding='post')    #x.shape[-1]\n",
    "    sentences = np.array([sentence[0], tmp_x[0]])\n",
    "    #print(\"Sentences:\",sentences.shape)\n",
    "    #print(\"Sentences(text)\", sentences)\n",
    "    predictions = model.predict(sentences, len(sentences))\n",
    "    \n",
    "    print('Sample 1:')\n",
    "    print(' '.join([y_id_to_word[np.argmax(x)] for x in predictions[0]]))\n",
    "    print('Il a vu un vieux camion jaune')\n",
    "    print('Sample 2:')\n",
    "    print(' '.join([y_id_to_word[np.argmax(x)] for x in predictions[1]]))\n",
    "    print(' '.join([y_id_to_word[np.max(x)] for x in y[0]]))\n",
    "\n",
    "final_predictions(preproc_english_sentences, preproc_french_sentences, english_tokenizer, french_tokenizer)"
   ]
  },
  {
   "cell_type": "markdown",
   "metadata": {},
   "source": [
    "## Submission\n",
    "When you're ready to submit, complete the following steps:\n",
    "1. Review the [rubric](https://review.udacity.com/#!/rubrics/1004/view) to ensure your submission meets all requirements to pass\n",
    "2. Generate an HTML version of this notebook\n",
    "\n",
    "  - Run the next cell to attempt automatic generation (this is the recommended method in Workspaces)\n",
    "  - Navigate to **FILE -> Download as -> HTML (.html)**\n",
    "  - Manually generate a copy using `nbconvert` from your shell terminal\n",
    "```\n",
    "$ pip install nbconvert\n",
    "$ python -m nbconvert machine_translation.ipynb\n",
    "```\n",
    "  \n",
    "3. Submit the project\n",
    "\n",
    "  - If you are in a Workspace, simply click the \"Submit Project\" button (bottom towards the right)\n",
    "  \n",
    "  - Otherwise, add the following files into a zip archive and submit them \n",
    "  - `helper.py`\n",
    "  - `machine_translation.ipynb`\n",
    "  - `machine_translation.html`\n",
    "    - You can export the notebook by navigating to **File -> Download as -> HTML (.html)**."
   ]
  },
  {
   "cell_type": "markdown",
   "metadata": {},
   "source": [
    "### Generate the html\n",
    "\n",
    "**Save your notebook before running the next cell to generate the HTML output.** Then submit your project."
   ]
  },
  {
   "cell_type": "code",
   "execution_count": 39,
   "metadata": {},
   "outputs": [
    {
     "data": {
      "text/plain": [
       "['[NbConvertApp] Converting notebook machine_translation.ipynb to html',\n",
       " '[NbConvertApp] Writing 384532 bytes to machine_translation.html',\n",
       " '[NbConvertApp] Converting notebook machine_translation-zh.ipynb to html',\n",
       " '[NbConvertApp] Writing 328614 bytes to machine_translation-zh.html']"
      ]
     },
     "execution_count": 39,
     "metadata": {},
     "output_type": "execute_result"
    }
   ],
   "source": [
    "# Save before you run this cell!\n",
    "!!jupyter nbconvert *.ipynb"
   ]
  },
  {
   "cell_type": "markdown",
   "metadata": {},
   "source": [
    "## Optional Enhancements\n",
    "\n",
    "This project focuses on learning various network architectures for machine translation, but we don't evaluate the models according to best practices by splitting the data into separate test & training sets -- so the model accuracy is overstated. Use the [`sklearn.model_selection.train_test_split()`](http://scikit-learn.org/stable/modules/generated/sklearn.model_selection.train_test_split.html) function to create separate training & test datasets, then retrain each of the models using only the training set and evaluate the prediction accuracy using the hold out test set. Does the \"best\" model change?"
   ]
  }
 ],
 "metadata": {
  "kernelspec": {
   "display_name": "Python 3",
   "language": "python",
   "name": "python3"
  },
  "language_info": {
   "codemirror_mode": {
    "name": "ipython",
    "version": 3
   },
   "file_extension": ".py",
   "mimetype": "text/x-python",
   "name": "python",
   "nbconvert_exporter": "python",
   "pygments_lexer": "ipython3",
   "version": "3.5.4"
  }
 },
 "nbformat": 4,
 "nbformat_minor": 1
}
